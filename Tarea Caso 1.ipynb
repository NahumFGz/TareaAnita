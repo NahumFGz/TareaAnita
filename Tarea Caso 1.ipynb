{
 "cells": [
  {
   "cell_type": "markdown",
   "metadata": {
    "application/vnd.databricks.v1+cell": {
     "cellMetadata": {
      "byteLimit": 2048000,
      "rowLimit": 10000
     },
     "inputWidgets": {},
     "nuid": "cc11f90e-5a45-4a14-9219-b75555dcab14",
     "showTitle": false,
     "tableResultSettingsMap": {},
     "title": ""
    }
   },
   "source": [
    "### 1. Importaciones"
   ]
  },
  {
   "cell_type": "code",
   "execution_count": 0,
   "metadata": {
    "application/vnd.databricks.v1+cell": {
     "cellMetadata": {
      "byteLimit": 2048000,
      "rowLimit": 10000
     },
     "inputWidgets": {},
     "nuid": "23f739be-0bef-4c88-a21f-b4aa624acf33",
     "showTitle": false,
     "tableResultSettingsMap": {},
     "title": ""
    }
   },
   "outputs": [],
   "source": [
    "from pyspark.sql import SparkSession\n",
    "from pyspark.sql.functions import col, concat, lit, sum as spark_sum, countDistinct, month, quarter, year, weekofyear\n",
    "from pyspark.sql.types import *\n",
    "import os"
   ]
  },
  {
   "cell_type": "markdown",
   "metadata": {
    "application/vnd.databricks.v1+cell": {
     "cellMetadata": {
      "byteLimit": 2048000,
      "rowLimit": 10000
     },
     "inputWidgets": {},
     "nuid": "dea3b865-27c6-4bfe-8d11-fd8e818bbe45",
     "showTitle": false,
     "tableResultSettingsMap": {},
     "title": ""
    }
   },
   "source": [
    "### 2. Configuración de rutas y carga de datos"
   ]
  },
  {
   "cell_type": "code",
   "execution_count": 0,
   "metadata": {
    "application/vnd.databricks.v1+cell": {
     "cellMetadata": {
      "byteLimit": 2048000,
      "rowLimit": 10000
     },
     "inputWidgets": {},
     "nuid": "09c8eb7e-bb89-41a6-a0bd-ae0e0570f474",
     "showTitle": false,
     "tableResultSettingsMap": {},
     "title": ""
    }
   },
   "outputs": [],
   "source": [
    "def create_spark_session():\n",
    "    spark = SparkSession.builder.appName(\"ModeloEstrellaRestaurante\").getOrCreate()\n",
    "    return spark\n",
    "\n",
    "def read_data(spark, input_data):\n",
    "    df_categories = spark.read.csv(f\"{input_data}/CATEGORIES.csv\", header=True, inferSchema=True)\n",
    "    df_customers = spark.read.csv(f\"{input_data}/CUSTOMERS.csv\", header=True, inferSchema=True)\n",
    "    df_employees = spark.read.csv(f\"{input_data}/EMPLOYEES.csv\", header=True, inferSchema=True)\n",
    "    df_orders = spark.read.csv(f\"{input_data}/ORDERS.csv\", header=True, inferSchema=True)\n",
    "    df_prices = spark.read.csv(f\"{input_data}/PRICES.csv\", header=True, inferSchema=True)\n",
    "    df_products = spark.read.csv(f\"{input_data}/PRODUCTS.csv\", header=True, inferSchema=True)\n",
    "    df_sizes = spark.read.csv(f\"{input_data}/SIZES.csv\", header=True, inferSchema=True)\n",
    "    return df_categories, df_customers, df_employees, df_orders, df_prices, df_products, df_sizes"
   ]
  },
  {
   "cell_type": "code",
   "execution_count": 0,
   "metadata": {
    "application/vnd.databricks.v1+cell": {
     "cellMetadata": {
      "byteLimit": 2048000,
      "rowLimit": 10000
     },
     "inputWidgets": {},
     "nuid": "baf65012-beb6-4d6b-9276-a0916df7b5fe",
     "showTitle": false,
     "tableResultSettingsMap": {},
     "title": ""
    }
   },
   "outputs": [],
   "source": [
    "# Configuración de rutas de entrada y salida\n",
    "input_data = \"dbfs:/FileStore/tables\"\n",
    "output_data = \"/tmp/output/\"\n",
    "\n",
    "# Inicializar sesión de Spark\n",
    "spark = create_spark_session()\n",
    "\n",
    "# Leer datos\n",
    "df_categories, df_customers, df_employees, df_orders, df_prices, df_products, df_sizes = read_data(spark, input_data)"
   ]
  },
  {
   "cell_type": "markdown",
   "metadata": {
    "application/vnd.databricks.v1+cell": {
     "cellMetadata": {
      "byteLimit": 2048000,
      "rowLimit": 10000
     },
     "inputWidgets": {},
     "nuid": "7a8c1838-4f0f-4dac-9a10-c3ac6565fc1d",
     "showTitle": false,
     "tableResultSettingsMap": {},
     "title": ""
    }
   },
   "source": [
    "### 3. Funciones para crear tablas de dimensiones"
   ]
  },
  {
   "cell_type": "code",
   "execution_count": 0,
   "metadata": {
    "application/vnd.databricks.v1+cell": {
     "cellMetadata": {
      "byteLimit": 2048000,
      "rowLimit": 10000
     },
     "inputWidgets": {},
     "nuid": "1263c6ab-ca21-462e-88e8-cdfb3d11cbaa",
     "showTitle": false,
     "tableResultSettingsMap": {},
     "title": ""
    }
   },
   "outputs": [],
   "source": [
    "def create_dim_employees(df_employees):\n",
    "    return df_employees.select(\n",
    "        col(\"EMPLOYEE_ID\").alias(\"id\"),\n",
    "        concat(col(\"FNAMEE\"), lit(\" \"), col(\"LNAMEE\")).alias(\"nombre_completo\")\n",
    "    ).distinct()\n",
    "\n",
    "def create_dim_customers(df_customers):\n",
    "    return df_customers.select(\n",
    "        col(\"CUSTOMER_ID\").alias(\"id\"),\n",
    "        concat(col(\"FNAMEC\"), lit(\" \"), col(\"LNAMEC\")).alias(\"nombre_completo\")\n",
    "    ).distinct()\n",
    "\n",
    "def create_dim_products(df_products, df_categories, df_prices, df_sizes):\n",
    "    return df_products \\\n",
    "    .join(df_categories.withColumnRenamed(\"DESCRIPTION\", \"categoria\"), \"CATEGORY_ID\", \"left\") \\\n",
    "    .join(df_prices.withColumnRenamed(\"DESCRIPTION\", \"precio\"), \"PRICE_ID\", \"left\") \\\n",
    "    .join(df_sizes.withColumnRenamed(\"DESCRIPTION\", \"tamaño\"), \"SIZE_ID\", \"left\") \\\n",
    "    .select(\n",
    "        df_products[\"PRODUCT_ID\"].alias(\"id\"),\n",
    "        df_products[\"NAMEP\"].alias(\"nombre_producto\"),\n",
    "        col(\"categoria\"),\n",
    "        col(\"precio\"),\n",
    "        col(\"tamaño\")\n",
    "    ).distinct()\n",
    "\n",
    "def create_dim_time(df_orders):\n",
    "    return df_orders.select(\n",
    "        col(\"ORDER_DATE\").alias(\"id_tiempo\"),\n",
    "        month(col(\"ORDER_DATE\")).alias(\"mes\"),\n",
    "        quarter(col(\"ORDER_DATE\")).alias(\"trimestre\"),\n",
    "        year(col(\"ORDER_DATE\")).alias(\"semestre\"),\n",
    "        weekofyear(col(\"ORDER_DATE\")).alias(\"dia_semana\")\n",
    "    ).distinct()"
   ]
  },
  {
   "cell_type": "code",
   "execution_count": 0,
   "metadata": {
    "application/vnd.databricks.v1+cell": {
     "cellMetadata": {
      "byteLimit": 2048000,
      "rowLimit": 10000
     },
     "inputWidgets": {},
     "nuid": "d355bbcb-db1c-4ceb-af1e-e4945d76aae0",
     "showTitle": false,
     "tableResultSettingsMap": {},
     "title": ""
    }
   },
   "outputs": [],
   "source": [
    "# Crear tablas de dimensiones\n",
    "dim_employees = create_dim_employees(df_employees)\n",
    "dim_customers = create_dim_customers(df_customers)\n",
    "dim_products = create_dim_products(df_products, df_categories, df_prices, df_sizes)\n",
    "dim_time = create_dim_time(df_orders)"
   ]
  },
  {
   "cell_type": "markdown",
   "metadata": {
    "application/vnd.databricks.v1+cell": {
     "cellMetadata": {
      "byteLimit": 2048000,
      "rowLimit": 10000
     },
     "inputWidgets": {},
     "nuid": "3dfa8a41-73bf-406a-b66e-6e3155bb5dbb",
     "showTitle": false,
     "tableResultSettingsMap": {},
     "title": ""
    }
   },
   "source": [
    "### 4. Función para crear tabla de hechos"
   ]
  },
  {
   "cell_type": "code",
   "execution_count": 0,
   "metadata": {
    "application/vnd.databricks.v1+cell": {
     "cellMetadata": {
      "byteLimit": 2048000,
      "rowLimit": 10000
     },
     "inputWidgets": {},
     "nuid": "cecfc2e4-059e-4b76-8372-4be641360637",
     "showTitle": false,
     "tableResultSettingsMap": {},
     "title": ""
    }
   },
   "outputs": [],
   "source": [
    "def create_hechos_ventas(df_orders, df_products, df_prices):\n",
    "    return df_orders \\\n",
    "        .join(df_products, \"PRODUCT_ID\", \"left\") \\\n",
    "        .join(df_prices, \"PRICE_ID\", \"left\") \\\n",
    "        .withColumn(\"monto_total\", col(\"AMOUNT\") * col(\"DESCRIPTION\").cast(\"float\")) \\\n",
    "        .select(\n",
    "            col(\"ORDER_ID\").alias(\"hecho_id\"),\n",
    "            col(\"EMPLOYEE_ID\"),\n",
    "            col(\"CUSTOMER_ID\"),\n",
    "            col(\"PRODUCT_ID\"),\n",
    "            col(\"ORDER_DATE\").alias(\"id_tiempo\"),\n",
    "            col(\"AMOUNT\").alias(\"qty_venta\"),\n",
    "            \"monto_total\"\n",
    "        )"
   ]
  },
  {
   "cell_type": "code",
   "execution_count": 0,
   "metadata": {
    "application/vnd.databricks.v1+cell": {
     "cellMetadata": {
      "byteLimit": 2048000,
      "rowLimit": 10000
     },
     "inputWidgets": {},
     "nuid": "a5525739-d444-44cf-a2a0-1c6ef0fd20dc",
     "showTitle": false,
     "tableResultSettingsMap": {},
     "title": ""
    }
   },
   "outputs": [],
   "source": [
    "# Crear tabla de hechos\n",
    "hechos_ventas = create_hechos_ventas(df_orders, df_products, df_prices)"
   ]
  },
  {
   "cell_type": "code",
   "execution_count": 0,
   "metadata": {
    "application/vnd.databricks.v1+cell": {
     "cellMetadata": {
      "byteLimit": 2048000,
      "rowLimit": 10000
     },
     "inputWidgets": {},
     "nuid": "ab3d0ddb-9792-4a50-9663-6ccc241ccd9d",
     "showTitle": false,
     "tableResultSettingsMap": {},
     "title": ""
    }
   },
   "outputs": [],
   "source": [
    "# Función para guardar DataFrames en formato Parquet\n",
    "def save_parquet(df, output_path, partition_by=None):\n",
    "    if partition_by:\n",
    "        df.write.mode(\"overwrite\").partitionBy(partition_by).parquet(output_path)\n",
    "    else:\n",
    "        df.write.mode(\"overwrite\").parquet(output_path)\n",
    "\n",
    "# Guardar tablas de dimensiones y hechos\n",
    "save_parquet(dim_employees, os.path.join(output_data, \"dim_employees\"))\n",
    "save_parquet(dim_customers, os.path.join(output_data, \"dim_customers\"))\n",
    "save_parquet(dim_products, os.path.join(output_data, \"dim_products\"))\n",
    "save_parquet(dim_time, os.path.join(output_data, \"dim_time\"))\n",
    "save_parquet(hechos_ventas, os.path.join(output_data, \"hechos_ventas\"))"
   ]
  },
  {
   "cell_type": "markdown",
   "metadata": {
    "application/vnd.databricks.v1+cell": {
     "cellMetadata": {
      "byteLimit": 2048000,
      "rowLimit": 10000
     },
     "inputWidgets": {},
     "nuid": "83d6ab9a-15cd-4fec-8d8d-420e4791e6f5",
     "showTitle": false,
     "tableResultSettingsMap": {},
     "title": ""
    }
   },
   "source": [
    "### 5. Preguntas de Negocio"
   ]
  },
  {
   "cell_type": "code",
   "execution_count": 0,
   "metadata": {
    "application/vnd.databricks.v1+cell": {
     "cellMetadata": {
      "byteLimit": 2048000,
      "rowLimit": 10000
     },
     "inputWidgets": {},
     "nuid": "6a22eb70-18ca-48ca-89bd-1e3834ac6579",
     "showTitle": false,
     "tableResultSettingsMap": {},
     "title": ""
    }
   },
   "outputs": [],
   "source": [
    "# 1. Función para calcular el monto total de ventas por empleado\n",
    "\n",
    "from pyspark.sql.functions import sum as spark_sum\n",
    "\n",
    "def ventas_por_empleado(hechos_ventas, dim_employees):\n",
    "    \"\"\"\n",
    "    Calcula el monto total de ventas por empleado.\n",
    "    \"\"\"\n",
    "    return hechos_ventas \\\n",
    "        .join(dim_employees, hechos_ventas[\"EMPLOYEE_ID\"] == dim_employees[\"id\"]) \\\n",
    "        .groupBy(\"id\", \"nombre_completo\") \\\n",
    "        .agg(spark_sum(\"monto_total\").alias(\"monto_total_ventas\")) \\\n",
    "        .orderBy(\"monto_total_ventas\", ascending=False)\n",
    "\n",
    "# 2. Función para analizar ventas por mes, trimestre y semestre\n",
    "def ventas_por_tiempo(hechos_ventas, dim_time):\n",
    "    \"\"\"\n",
    "    Analiza el monto total de ventas por mes, trimestre y semestre.\n",
    "    \"\"\"\n",
    "    return hechos_ventas \\\n",
    "        .join(dim_time, hechos_ventas[\"id_tiempo\"] == dim_time[\"id_tiempo\"]) \\\n",
    "        .groupBy(\"mes\", \"trimestre\", \"semestre\") \\\n",
    "        .agg(spark_sum(\"monto_total\").alias(\"total_ventas\")) \\\n",
    "        .orderBy(\"semestre\", \"trimestre\", \"mes\")\n",
    "\n",
    "# 3. Función para encontrar el día de la semana con mayor consumo\n",
    "from pyspark.sql.functions import count\n",
    "\n",
    "def dia_semana_mayor_consumo(hechos_ventas, dim_time):\n",
    "    \"\"\"\n",
    "    Encuentra el día de la semana con el mayor número de ventas.\n",
    "    \"\"\"\n",
    "    return hechos_ventas \\\n",
    "        .join(dim_time, hechos_ventas[\"id_tiempo\"] == dim_time[\"id_tiempo\"]) \\\n",
    "        .groupBy(\"dia_semana\") \\\n",
    "        .agg(count(\"*\").alias(\"conteo_ventas\")) \\\n",
    "        .orderBy(\"conteo_ventas\", ascending=False) \\\n",
    "        .limit(1)\n",
    "\n",
    "\n",
    "\n",
    "# 4. Función para calcular la cantidad de clientes atendidos por mes\n",
    "from pyspark.sql.functions import countDistinct\n",
    "\n",
    "def cantidad_clientes_por_mes(hechos_ventas, dim_time):\n",
    "    \"\"\"\n",
    "    Calcula la cantidad de clientes únicos atendidos por mes.\n",
    "    \"\"\"\n",
    "    return hechos_ventas \\\n",
    "        .join(dim_time, hechos_ventas[\"id_tiempo\"] == dim_time[\"id_tiempo\"]) \\\n",
    "        .groupBy(\"mes\") \\\n",
    "        .agg(countDistinct(\"CUSTOMER_ID\").alias(\"cantidad_clientes\")) \\\n",
    "        .orderBy(\"mes\")\n",
    "\n",
    "# 5. Función para encontrar los productos más y menos vendidos\n",
    "from pyspark.sql.functions import lit\n",
    "\n",
    "def productos_mas_y_menos_vendidos(hechos_ventas, dim_products):\n",
    "    \"\"\"\n",
    "    Calcula los productos más y menos vendidos.\n",
    "    \"\"\"\n",
    "    productos_venta = hechos_ventas \\\n",
    "        .join(dim_products, hechos_ventas[\"PRODUCT_ID\"] == dim_products[\"id\"]) \\\n",
    "        .groupBy(\"id\", \"nombre_producto\", \"categoria\", \"precio\") \\\n",
    "        .agg(spark_sum(\"qty_venta\").alias(\"total_vendido\"))\n",
    "\n",
    "    # Producto más vendido\n",
    "    producto_mas_vendido = productos_venta.orderBy(col(\"total_vendido\").desc()).limit(1) \\\n",
    "        .withColumn(\"demanda\", lit(\"Mas Vendido\"))\n",
    "    \n",
    "    # Producto menos vendido\n",
    "    producto_menos_vendido = productos_venta.orderBy(col(\"total_vendido\").asc()).limit(1) \\\n",
    "        .withColumn(\"demanda\", lit(\"Menos Vendido\"))\n",
    "    \n",
    "    # Unir los resultados\n",
    "    return producto_mas_vendido.union(producto_menos_vendido)"
   ]
  },
  {
   "cell_type": "code",
   "execution_count": 0,
   "metadata": {
    "application/vnd.databricks.v1+cell": {
     "cellMetadata": {
      "byteLimit": 2048000,
      "rowLimit": 10000
     },
     "inputWidgets": {},
     "nuid": "6fcf1ec1-1bac-41d2-bdf6-0bf14892f115",
     "showTitle": false,
     "tableResultSettingsMap": {},
     "title": ""
    }
   },
   "outputs": [
    {
     "output_type": "stream",
     "name": "stdout",
     "output_type": "stream",
     "text": [
      "+---+-------------------+------------------+\n| id|    nombre_completo|monto_total_ventas|\n+---+-------------------+------------------+\n|  4|               null|            7900.0|\n| 13|     Jung-kook Jeon|            5550.0|\n|  3|      Pedro Infante|            3765.0|\n|  9|               null|            3530.0|\n|  5|               null|            3030.0|\n| 11|               null|            2750.0|\n| 10|               null|            1575.0|\n|  2|Marco Antonio Solis|            1130.0|\n| 12|  Vicente Fernandez|            1120.0|\n|  1|               null|             740.0|\n|  7|        Myke Towers|             550.0|\n|  6|       Bryant Myers|             540.0|\n|  8|               null|             500.0|\n+---+-------------------+------------------+\n\n+---+---------+--------+------------+\n|mes|trimestre|semestre|total_ventas|\n+---+---------+--------+------------+\n|  7|        3|    2015|      1270.0|\n|  6|        2|    2016|      1350.0|\n|  5|        2|    2017|       170.0|\n|  8|        3|    2017|       500.0|\n|  3|        1|    2018|       960.0|\n|  6|        2|    2018|      2965.0|\n|  8|        3|    2018|       170.0|\n|  4|        2|    2019|      1360.0|\n|  6|        2|    2019|      1880.0|\n| 10|        4|    2019|       290.0|\n| 11|        4|    2019|       570.0|\n|  1|        1|    2020|       390.0|\n|  2|        1|    2020|       270.0|\n|  3|        1|    2020|      2275.0|\n|  4|        2|    2020|      1730.0|\n|  6|        2|    2020|      2845.0|\n|  7|        3|    2020|      1040.0|\n|  8|        3|    2020|       660.0|\n|  9|        3|    2020|      2100.0|\n| 10|        4|    2020|       280.0|\n+---+---------+--------+------------+\nonly showing top 20 rows\n\n+----------+-------------+\n|dia_semana|conteo_ventas|\n+----------+-------------+\n|        24|            5|\n+----------+-------------+\n\n+---+-----------------+\n|mes|cantidad_clientes|\n+---+-----------------+\n|  1|                2|\n|  2|                2|\n|  3|                3|\n|  4|                2|\n|  5|                5|\n|  6|                9|\n|  7|                6|\n|  8|                4|\n|  9|                3|\n| 10|                1|\n| 11|                1|\n+---+-----------------+\n\n+---+--------------------+---------+------+-------------+-------------+\n| id|     nombre_producto|categoria|precio|total_vendido|      demanda|\n+---+--------------------+---------+------+-------------+-------------+\n| 30|Tallarín de arroz...| ChapSuey|   275|           10|  Mas Vendido|\n| 98|Vegetales con hon...|Vegetales|   280|            1|Menos Vendido|\n+---+--------------------+---------+------+-------------+-------------+\n\n"
     ]
    }
   ],
   "source": [
    "# Ejecutar las funciones y mostrar los resultados\n",
    "ventas_empleado_df = ventas_por_empleado(hechos_ventas, dim_employees)\n",
    "ventas_empleado_df.show()\n",
    "\n",
    "ventas_tiempo_df = ventas_por_tiempo(hechos_ventas, dim_time)\n",
    "ventas_tiempo_df.show()\n",
    "\n",
    "dia_mayor_consumo_df = dia_semana_mayor_consumo(hechos_ventas, dim_time)\n",
    "dia_mayor_consumo_df.show()\n",
    "\n",
    "clientes_mes_df = cantidad_clientes_por_mes(hechos_ventas, dim_time)\n",
    "clientes_mes_df.show()\n",
    "\n",
    "productos_ventas_df = productos_mas_y_menos_vendidos(hechos_ventas, dim_products)\n",
    "productos_ventas_df.show()"
   ]
  },
  {
   "cell_type": "markdown",
   "metadata": {
    "application/vnd.databricks.v1+cell": {
     "cellMetadata": {
      "byteLimit": 2048000,
      "rowLimit": 10000
     },
     "inputWidgets": {},
     "nuid": "b250debf-154e-49b0-bb54-2f1f85ab2021",
     "showTitle": false,
     "tableResultSettingsMap": {},
     "title": ""
    }
   },
   "source": [
    "### 6. Métricas"
   ]
  },
  {
   "cell_type": "code",
   "execution_count": 0,
   "metadata": {
    "application/vnd.databricks.v1+cell": {
     "cellMetadata": {
      "byteLimit": 2048000,
      "rowLimit": 10000
     },
     "inputWidgets": {},
     "nuid": "4025a81b-504b-4ff3-8d38-9654cbd73373",
     "showTitle": false,
     "tableResultSettingsMap": {},
     "title": ""
    }
   },
   "outputs": [],
   "source": [
    "# 1. Función para calcular el monto total de una orden\n",
    "def monto_total_por_orden(hechos_ventas, dim_products):\n",
    "    \"\"\"\n",
    "    Calcula el monto total de cada orden (precio * cantidad).\n",
    "    \"\"\"\n",
    "    return hechos_ventas \\\n",
    "        .join(dim_products, hechos_ventas[\"PRODUCT_ID\"] == dim_products[\"id\"]) \\\n",
    "        .withColumn(\"monto_total\", col(\"precio\") * col(\"qty_venta\")) \\\n",
    "        .select(\"hecho_id\", \"PRODUCT_ID\", \"qty_venta\", \"precio\", \"monto_total\")\n",
    "\n",
    "# 2. Función para contar la cantidad de clientes atendidos durante el mes\n",
    "def cantidad_clientes_atendidos_mes(hechos_ventas, dim_time):\n",
    "    \"\"\"\n",
    "    Cuenta los clientes únicos atendidos durante cada mes.\n",
    "    \"\"\"\n",
    "    return hechos_ventas \\\n",
    "        .join(dim_time, hechos_ventas[\"id_tiempo\"] == dim_time[\"id_tiempo\"]) \\\n",
    "        .groupBy(\"mes\") \\\n",
    "        .agg(countDistinct(\"CUSTOMER_ID\").alias(\"cantidad_clientes\")) \\\n",
    "        .orderBy(\"mes\")\n"
   ]
  },
  {
   "cell_type": "code",
   "execution_count": 0,
   "metadata": {
    "application/vnd.databricks.v1+cell": {
     "cellMetadata": {
      "byteLimit": 2048000,
      "rowLimit": 10000
     },
     "inputWidgets": {},
     "nuid": "b58dc5cf-04f0-4a9e-a50e-13a2b399d16c",
     "showTitle": false,
     "tableResultSettingsMap": {},
     "title": ""
    }
   },
   "outputs": [
    {
     "output_type": "stream",
     "name": "stdout",
     "output_type": "stream",
     "text": [
      "+--------+----------+---------+------+-----------+\n|hecho_id|PRODUCT_ID|qty_venta|precio|monto_total|\n+--------+----------+---------+------+-----------+\n|       1|         1|        3|   190|        570|\n|       2|         2|        1|   170|        170|\n|       3|         3|        1|   170|        170|\n|       4|         4|        2|   160|        320|\n|       5|        15|        5|   195|        975|\n|       6|         6|        4|   165|        660|\n|       7|         7|        3|   320|        960|\n|       8|         8|        2|   240|        480|\n|       9|        19|        2|   270|        540|\n|      10|        10|        1|   240|        240|\n|      11|        12|        1|   270|        270|\n|      12|        14|        1|   270|        270|\n|      13|        18|        2|   250|        500|\n|      14|        22|        2|   275|        550|\n|      15|        25|        6|   260|       1560|\n|      16|        26|        6|   225|       1350|\n|      17|        30|       10|   275|       2750|\n|      18|        35|        2|   275|        550|\n|      19|        40|        2|   285|        570|\n|      20|        42|        1|   290|        290|\n+--------+----------+---------+------+-----------+\nonly showing top 20 rows\n\n+---+-----------------+\n|mes|cantidad_clientes|\n+---+-----------------+\n|  1|                2|\n|  2|                2|\n|  3|                3|\n|  4|                2|\n|  5|                5|\n|  6|                9|\n|  7|                6|\n|  8|                4|\n|  9|                3|\n| 10|                1|\n| 11|                1|\n+---+-----------------+\n\n"
     ]
    }
   ],
   "source": [
    "monto_total_orden_df = monto_total_por_orden(hechos_ventas, dim_products)\n",
    "monto_total_orden_df.show()\n",
    "\n",
    "clientes_atendidos_mes_df = cantidad_clientes_atendidos_mes(hechos_ventas, dim_time)\n",
    "clientes_atendidos_mes_df.show()"
   ]
  },
  {
   "cell_type": "code",
   "execution_count": 0,
   "metadata": {
    "application/vnd.databricks.v1+cell": {
     "cellMetadata": {
      "byteLimit": 2048000,
      "rowLimit": 10000
     },
     "inputWidgets": {},
     "nuid": "ef80e165-f5a2-43a1-be8c-057fd1d14704",
     "showTitle": false,
     "tableResultSettingsMap": {},
     "title": ""
    }
   },
   "outputs": [
    {
     "output_type": "display_data",
     "data": {
      "text/html": [
       "<style scoped>\n",
       "  .ansiout {\n",
       "    display: block;\n",
       "    unicode-bidi: embed;\n",
       "    white-space: pre-wrap;\n",
       "    word-wrap: break-word;\n",
       "    word-break: break-all;\n",
       "    font-family: \"Menlo\", \"Monaco\", \"Consolas\", \"Ubuntu Mono\", \"Source Code Pro\", monospace;\n",
       "    font-size: 13px;\n",
       "    color: #555;\n",
       "    margin-left: 4px;\n",
       "    line-height: 19px;\n",
       "  }\n",
       "</style>"
      ]
     },
     "metadata": {
      "application/vnd.databricks.v1+output": {
       "arguments": {},
       "data": "",
       "errorSummary": "The spark context has stopped and the driver is restarting. Your notebook will be automatically reattached.",
       "errorTraceType": "html",
       "metadata": {},
       "type": "ipynbError"
      }
     },
     "output_type": "display_data"
    }
   ],
   "source": [
    "# Finalizar sesión de Spark\n",
    "spark.stop()"
   ]
  }
 ],
 "metadata": {
  "application/vnd.databricks.v1+notebook": {
   "dashboards": [],
   "environmentMetadata": null,
   "language": "python",
   "notebookMetadata": {
    "mostRecentlyExecutedCommandWithImplicitDF": {
     "commandId": 2252830992423612,
     "dataframes": [
      "_sqldf"
     ]
    },
    "pythonIndentUnit": 4
   },
   "notebookName": "Tarea Caso 1",
   "widgets": {}
  }
 },
 "nbformat": 4,
 "nbformat_minor": 0
}
