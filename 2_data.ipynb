{
 "cells": [
  {
   "cell_type": "code",
   "execution_count": null,
   "metadata": {},
   "outputs": [],
   "source": [
    "import json\n",
    "import pandas as pd"
   ]
  },
  {
   "cell_type": "markdown",
   "metadata": {},
   "source": [
    "### 1. Procesar json"
   ]
  },
  {
   "cell_type": "code",
   "execution_count": null,
   "metadata": {},
   "outputs": [],
   "source": [
    "def modify_json_file(source_path, destination_path):\n",
    "    # Leer el archivo y agregar una coma al final de cada línea excepto la última\n",
    "    with open(source_path, 'r', encoding='utf-8') as file:\n",
    "        lines = file.readlines()\n",
    "\n",
    "    # Agregar una coma al final de cada línea excepto la última\n",
    "    modified_lines = [line.rstrip('\\n') + ',\\n' for line in lines[:-1]]\n",
    "    modified_lines.append(lines[-1].rstrip('\\n') + '\\n')\n",
    "\n",
    "    # Agregar corchetes al inicio y al final\n",
    "    modified_lines.insert(0, '[\\n')\n",
    "    modified_lines.append(']\\n')\n",
    "\n",
    "    # Escribir el contenido modificado en un nuevo archivo\n",
    "    with open(destination_path, 'w', encoding='utf-8') as file:\n",
    "        file.writelines(modified_lines)"
   ]
  },
  {
   "cell_type": "code",
   "execution_count": null,
   "metadata": {},
   "outputs": [],
   "source": [
    "source_path = 'data\\proy_2\\org\\(backup) bk_bot_devices.json'\n",
    "destination_path = 'data\\proy_2\\proc\\(backup) bk_bot_devices.json'\n",
    "modify_json_file(source_path, destination_path)"
   ]
  },
  {
   "cell_type": "code",
   "execution_count": null,
   "metadata": {},
   "outputs": [],
   "source": [
    "source_path = 'data\\proy_2\\org\\(backup)_iot_devices.json'\n",
    "destination_path = 'data\\proy_2\\proc\\(backup)_iot_devices.json'\n",
    "modify_json_file(source_path, destination_path)"
   ]
  },
  {
   "cell_type": "code",
   "execution_count": null,
   "metadata": {},
   "outputs": [],
   "source": [
    "source_path = 'data\\\\proy_2\\\\org\\\\bot_devices.json'\n",
    "destination_path = 'data\\\\proy_2\\\\proc\\\\bot_devices.json'\n",
    "modify_json_file(source_path, destination_path)"
   ]
  },
  {
   "cell_type": "code",
   "execution_count": null,
   "metadata": {},
   "outputs": [],
   "source": [
    "source_path = 'data\\proy_2\\org\\iot_devices.json'\n",
    "destination_path = 'data\\proy_2\\proc\\iot_devices.json'\n",
    "modify_json_file(source_path, destination_path)"
   ]
  },
  {
   "cell_type": "code",
   "execution_count": null,
   "metadata": {},
   "outputs": [],
   "source": [
    "source_path = 'data\\proy_2\\org\\sample_models.json'\n",
    "destination_path = 'data\\proy_2\\proc\\sample_models.json'\n",
    "modify_json_file(source_path, destination_path)"
   ]
  },
  {
   "cell_type": "markdown",
   "metadata": {},
   "source": [
    "### 2. Crear Convertir a CSVs"
   ]
  },
  {
   "cell_type": "code",
   "execution_count": 24,
   "metadata": {},
   "outputs": [],
   "source": [
    "def json_to_csv(json_path, csv_path):\n",
    "    # Leer el archivo JSON y pasarlo a un DataFrame\n",
    "    with open(json_path, 'r', encoding='utf-8') as file:\n",
    "        data = json.load(file)\n",
    "\n",
    "    df = pd.DataFrame(data)\n",
    "    print(df)\n",
    "    \n",
    "    # Guardar el DataFrame en un archivo CSV\n",
    "    df.to_csv(csv_path, index=False)"
   ]
  },
  {
   "cell_type": "code",
   "execution_count": 29,
   "metadata": {},
   "outputs": [
    {
     "name": "stdout",
     "output_type": "stream",
     "text": [
      "      battery_level  c02_level cca2 cca3             cn  device_id  \\\n",
      "0                 2       1188   US  USA  United States     188778   \n",
      "1                 8        980   MY  MYS       Malaysia     188779   \n",
      "2                 6       1362   FI  FIN        Finland     188780   \n",
      "3                 6       1148   US  USA  United States     188781   \n",
      "4                 6       1401   US  USA  United States     188782   \n",
      "...             ...        ...  ...  ...            ...        ...   \n",
      "9382              5       1594   IT  ITA          Italy     198160   \n",
      "9383              4       1051   CA  CAN         Canada     198161   \n",
      "9384              3       1455   NL  NLD    Netherlands     198162   \n",
      "9385              4       1358   DE  DEU        Germany     198163   \n",
      "9386              0       1291   PL  POL         Poland     198164   \n",
      "\n",
      "                       device_name  humidity              ip  latitude  \\\n",
      "0           sensor-pad-188778AThJF        26      69.74.1.74     38.00   \n",
      "1       meter-gauge-188779K6huHvr0        96     202.9.98.61      3.08   \n",
      "2           sensor-pad-188780jiZjF        34   139.97.21.206     60.17   \n",
      "3          device-mac-188781UGeTab        68     68.85.33.50     38.00   \n",
      "4         sensor-pad-1887828yFT2kO        88    24.227.255.1     33.00   \n",
      "...                            ...       ...             ...       ...   \n",
      "9382   sensor-pad-198160wdsQqMjV8b        49   195.94.190.34     42.83   \n",
      "9383    meter-gauge-198161t6pF0Xhg        63   204.19.147.19     45.50   \n",
      "9384       sensor-pad-198162778iVI        51  212.204.219.81     52.37   \n",
      "9385  meter-gauge-198163jphYrUReMD        56   93.135.125.41     48.19   \n",
      "9386   sensor-pad-198164Ndlyvs0r9C        98     80.55.20.25     53.08   \n",
      "\n",
      "         lcd  longitude    scale  temp      timestamp  \n",
      "0     yellow     -97.00  Celsius    34  1458444060921  \n",
      "1      green     101.65  Celsius    16  1458444060921  \n",
      "2     yellow      24.94  Celsius    18  1458444060921  \n",
      "3     yellow     -97.00  Celsius    11  1458444060921  \n",
      "4        red     -96.90  Celsius    33  1458444060921  \n",
      "...      ...        ...      ...   ...            ...  \n",
      "9382     red      12.83  Celsius    24  1458444061098  \n",
      "9383  yellow     -73.55  Celsius    27  1458444061098  \n",
      "9384     red       4.89  Celsius    17  1458444061098  \n",
      "9385  yellow      11.38  Celsius    30  1458444061098  \n",
      "9386  yellow      18.62  Celsius    12  1458444061098  \n",
      "\n",
      "[9387 rows x 15 columns]\n"
     ]
    }
   ],
   "source": [
    "json_path = 'data\\proy_2\\proc\\(backup) bk_bot_devices.json'\n",
    "csv_path = 'data\\proy_2\\(backup) bk_bot_devices.csv'\n",
    "json_to_csv(json_path, csv_path)"
   ]
  },
  {
   "cell_type": "code",
   "execution_count": 30,
   "metadata": {},
   "outputs": [
    {
     "name": "stdout",
     "output_type": "stream",
     "text": [
      "       battery_level  c02_level cca2 cca3                 cn  device_id  \\\n",
      "0                  0       1221   US  USA      United States     158705   \n",
      "1                  3       1108   US  USA      United States     158706   \n",
      "2                  9       1534   JP  JPN              Japan     158707   \n",
      "3                  1       1549   KR  KOR  Republic of Korea     158708   \n",
      "4                  6       1439   IL  ISR             Israel     158709   \n",
      "...              ...        ...  ...  ...                ...        ...   \n",
      "39455              5       1594   IT  ITA              Italy     198160   \n",
      "39456              4       1051   CA  CAN             Canada     198161   \n",
      "39457              3       1455   NL  NLD        Netherlands     198162   \n",
      "39458              4       1358   DE  DEU            Germany     198163   \n",
      "39459              0       1291   PL  POL             Poland     198164   \n",
      "\n",
      "                        device_name  humidity              ip  latitude  \\\n",
      "0           therm-stick-158705MvAo9        57   66.221.80.175     32.81   \n",
      "1          sensor-pad-158706YI9XP6k        44      72.129.5.3     38.00   \n",
      "2       meter-gauge-158707LpKjZXLBz        25   221.240.2.230     35.69   \n",
      "3         sensor-pad-158708DvvAnHN2        31  203.248.255.78     37.57   \n",
      "4        device-mac-158709OI5I9Dydj        46   62.219.195.71     31.96   \n",
      "...                             ...       ...             ...       ...   \n",
      "39455   sensor-pad-198160wdsQqMjV8b        49   195.94.190.34     42.83   \n",
      "39456    meter-gauge-198161t6pF0Xhg        63   204.19.147.19     45.50   \n",
      "39457       sensor-pad-198162778iVI        51  212.204.219.81     52.37   \n",
      "39458  meter-gauge-198163jphYrUReMD        56   93.135.125.41     48.19   \n",
      "39459   sensor-pad-198164Ndlyvs0r9C        98     80.55.20.25     53.08   \n",
      "\n",
      "          lcd  longitude    scale  temp      timestamp  \n",
      "0      yellow     -96.87  Celsius    27  1458444060060  \n",
      "1      yellow     -97.00  Celsius    19  1458444060060  \n",
      "2         red     139.75  Celsius    21  1458444060060  \n",
      "3         red     126.98  Celsius    30  1458444060060  \n",
      "4         red      34.80  Celsius    18  1458444060060  \n",
      "...       ...        ...      ...   ...            ...  \n",
      "39455     red      12.83  Celsius    24  1458444061098  \n",
      "39456  yellow     -73.55  Celsius    27  1458444061098  \n",
      "39457     red       4.89  Celsius    17  1458444061098  \n",
      "39458  yellow      11.38  Celsius    30  1458444061098  \n",
      "39459  yellow      18.62  Celsius    12  1458444061098  \n",
      "\n",
      "[39460 rows x 15 columns]\n"
     ]
    }
   ],
   "source": [
    "json_path = 'data\\proy_2\\proc\\(backup)_iot_devices.json'\n",
    "csv_path = 'data\\proy_2\\(backup)_iot_devices.csv'\n",
    "json_to_csv(json_path, csv_path)"
   ]
  },
  {
   "cell_type": "code",
   "execution_count": 31,
   "metadata": {},
   "outputs": [
    {
     "name": "stdout",
     "output_type": "stream",
     "text": [
      "                     date                               name       location  \\\n",
      "0     2016-03-20 03:21:00        robo-sensor-pad-188778AThJF  United States   \n",
      "1     2016-03-20 03:21:00    robo-meter-gauge-188779K6huHvr0       Malaysia   \n",
      "2     2016-03-20 03:21:00        robo-sensor-pad-188780jiZjF        Finland   \n",
      "3     2016-03-20 03:21:00       robo-device-mac-188781UGeTab  United States   \n",
      "4     2016-03-20 03:21:00      robo-sensor-pad-1887828yFT2kO  United States   \n",
      "...                   ...                                ...            ...   \n",
      "9382  2016-03-20 03:21:01   robo-sensor-pad-198160wdsQqMjV8b          Italy   \n",
      "9383  2016-03-20 03:21:01    robo-meter-gauge-198161t6pF0Xhg         Canada   \n",
      "9384  2016-03-20 03:21:01       robo-sensor-pad-198162778iVI    Netherlands   \n",
      "9385  2016-03-20 03:21:01  robo-meter-gauge-198163jphYrUReMD        Germany   \n",
      "9386  2016-03-20 03:21:01   robo-sensor-pad-198164Ndlyvs0r9C         Poland   \n",
      "\n",
      "      humidity  temperature  sound      id  \n",
      "0           26           34     41  188778  \n",
      "1           96           16     73  188779  \n",
      "2           34           18     90  188780  \n",
      "3           68           11      9  188781  \n",
      "4           88           33     38  188782  \n",
      "...        ...          ...    ...     ...  \n",
      "9382        49           24     98  198160  \n",
      "9383        63           27     45  198161  \n",
      "9384        51           17     49  198162  \n",
      "9385        56           30     16  198163  \n",
      "9386        98           12     25  198164  \n",
      "\n",
      "[9387 rows x 7 columns]\n"
     ]
    }
   ],
   "source": [
    "json_path = 'data\\\\proy_2\\\\proc\\\\bot_devices.json'\n",
    "csv_path = 'data\\\\proy_2\\\\bot_devices.csv'\n",
    "json_to_csv(json_path, csv_path)"
   ]
  },
  {
   "cell_type": "code",
   "execution_count": 32,
   "metadata": {},
   "outputs": [
    {
     "name": "stdout",
     "output_type": "stream",
     "text": [
      "       battery_level  c02_level cca2 cca3                 cn  device_id  \\\n",
      "0                  3       1108   US  USA      United States     158706   \n",
      "1                  9       1534   JP  JPN              Japan     158707   \n",
      "2                  1       1549   KR  KOR  Republic of Korea     158708   \n",
      "3                  6       1439   IL  ISR             Israel     158709   \n",
      "4                  9       1218   US  USA      United States     158710   \n",
      "...              ...        ...  ...  ...                ...        ...   \n",
      "15030              6       1208   PL  POL             Poland     173736   \n",
      "15031              1       1011   US  USA      United States     173737   \n",
      "15032              9       1068   BR  BRA             Brazil     173738   \n",
      "15033              0        865   CZ  CZE     Czech Republic     173739   \n",
      "15034              8       1477   JP  JPN              Japan     173740   \n",
      "\n",
      "                       device_name  humidity              ip  latitude  \\\n",
      "0         sensor-pad-158706YI9XP6k        44      72.129.5.3     38.00   \n",
      "1      meter-gauge-158707LpKjZXLBz        25   221.240.2.230     35.69   \n",
      "2        sensor-pad-158708DvvAnHN2        31  203.248.255.78     37.57   \n",
      "3       device-mac-158709OI5I9Dydj        46   62.219.195.71     31.96   \n",
      "4       sensor-pad-158710AQtyNsdbi        53  64.202.163.170     33.61   \n",
      "...                            ...       ...             ...       ...   \n",
      "15030  sensor-pad-17373678Iu8Rjoaq        27   213.25.12.210     52.23   \n",
      "15031     meter-gauge-173737vsDxm6        79      96.4.239.1     36.07   \n",
      "15032  sensor-pad-173738YSqeEWs3M3        57  200.220.196.18    -23.55   \n",
      "15033   device-mac-173739OPy7aT9eL        50     85.135.13.1     50.08   \n",
      "15034    sensor-pad-173740JuffLORE        61  133.215.125.17     35.69   \n",
      "\n",
      "          lcd  longitude    scale  temp      timestamp  \n",
      "0      yellow     -97.00  Celsius    19  1458444060060  \n",
      "1         red     139.75  Celsius    21  1458444060060  \n",
      "2         red     126.98  Celsius    30  1458444060060  \n",
      "3         red      34.80  Celsius    18  1458444060060  \n",
      "4      yellow    -111.89  Celsius    13  1458444060060  \n",
      "...       ...        ...      ...   ...            ...  \n",
      "15030  yellow      21.02  Celsius    34  1458444060426  \n",
      "15031  yellow     -86.72  Celsius    34  1458444060426  \n",
      "15032  yellow     -46.64  Celsius    20  1458444060426  \n",
      "15033   green      14.42  Celsius    21  1458444060426  \n",
      "15034     red     139.69  Celsius    24  1458444060426  \n",
      "\n",
      "[15035 rows x 15 columns]\n"
     ]
    }
   ],
   "source": [
    "json_path = 'data\\proy_2\\proc\\iot_devices.json'\n",
    "csv_path = 'data\\proy_2\\iot_devices.csv'\n",
    "json_to_csv(json_path, csv_path)"
   ]
  },
  {
   "cell_type": "code",
   "execution_count": null,
   "metadata": {},
   "outputs": [],
   "source": []
  }
 ],
 "metadata": {
  "kernelspec": {
   "display_name": "venv_tarea",
   "language": "python",
   "name": "python3"
  },
  "language_info": {
   "codemirror_mode": {
    "name": "ipython",
    "version": 3
   },
   "file_extension": ".py",
   "mimetype": "text/x-python",
   "name": "python",
   "nbconvert_exporter": "python",
   "pygments_lexer": "ipython3",
   "version": "3.10.8"
  }
 },
 "nbformat": 4,
 "nbformat_minor": 2
}
