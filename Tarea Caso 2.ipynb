{
 "cells": [
  {
   "cell_type": "markdown",
   "metadata": {
    "application/vnd.databricks.v1+cell": {
     "cellMetadata": {
      "byteLimit": 2048000,
      "rowLimit": 10000
     },
     "inputWidgets": {},
     "nuid": "6c2d0b7d-9e8e-44b7-80f3-5fe78a049908",
     "showTitle": false,
     "tableResultSettingsMap": {},
     "title": ""
    }
   },
   "source": [
    "### 1. Importaciones"
   ]
  },
  {
   "cell_type": "code",
   "execution_count": 0,
   "metadata": {
    "application/vnd.databricks.v1+cell": {
     "cellMetadata": {
      "byteLimit": 2048000,
      "rowLimit": 10000
     },
     "inputWidgets": {},
     "nuid": "26e69aad-4157-4785-943b-09c64aabd609",
     "showTitle": false,
     "tableResultSettingsMap": {},
     "title": ""
    }
   },
   "outputs": [],
   "source": [
    "from pyspark.sql import SparkSession\n",
    "from pyspark.sql.functions import col, year, month, dayofmonth, weekofyear, concat, lit, avg, max, min, count, countDistinct\n",
    "import os"
   ]
  },
  {
   "cell_type": "markdown",
   "metadata": {
    "application/vnd.databricks.v1+cell": {
     "cellMetadata": {
      "byteLimit": 2048000,
      "rowLimit": 10000
     },
     "inputWidgets": {},
     "nuid": "a7434831-a458-4428-92bb-49515e772811",
     "showTitle": false,
     "tableResultSettingsMap": {},
     "title": ""
    }
   },
   "source": [
    "### 2. Configuración de rutas y carga de datos"
   ]
  },
  {
   "cell_type": "code",
   "execution_count": 0,
   "metadata": {
    "application/vnd.databricks.v1+cell": {
     "cellMetadata": {
      "byteLimit": 2048000,
      "rowLimit": 10000
     },
     "inputWidgets": {},
     "nuid": "854b9d26-8e6d-4a67-9311-88429b096ef0",
     "showTitle": false,
     "tableResultSettingsMap": {},
     "title": ""
    }
   },
   "outputs": [
    {
     "output_type": "stream",
     "name": "stdout",
     "output_type": "stream",
     "text": [
      "+-------------------+--------------------+-------------+--------+-----------+-----+------+\n|               date|                name|     location|humidity|temperature|sound|    id|\n+-------------------+--------------------+-------------+--------+-----------+-----+------+\n|2016-03-20 03:21:00|robo-sensor-pad-1...|United States|      26|         34|   41|188778|\n|2016-03-20 03:21:00|robo-meter-gauge-...|     Malaysia|      96|         16|   73|188779|\n+-------------------+--------------------+-------------+--------+-----------+-----+------+\nonly showing top 2 rows\n\n+-------------+---------+----+----+-------------+---------+--------------------+--------+-------------+--------+------+---------+-------+----+-------------+\n|battery_level|c02_level|cca2|cca3|           cn|device_id|         device_name|humidity|           ip|latitude|   lcd|longitude|  scale|temp|    timestamp|\n+-------------+---------+----+----+-------------+---------+--------------------+--------+-------------+--------+------+---------+-------+----+-------------+\n|            3|     1108|  US| USA|United States|   158706|sensor-pad-158706...|      44|   72.129.5.3|    38.0|yellow|    -97.0|Celsius|  19|1458444060060|\n|            9|     1534|  JP| JPN|        Japan|   158707|meter-gauge-15870...|      25|221.240.2.230|   35.69|   red|   139.75|Celsius|  21|1458444060060|\n+-------------+---------+----+----+-------------+---------+--------------------+--------+-------------+--------+------+---------+-------+----+-------------+\nonly showing top 2 rows\n\n"
     ]
    }
   ],
   "source": [
    "# Crear sesión de Spark\n",
    "spark = SparkSession.builder.appName(\"IoTDeviceModel\").getOrCreate()\n",
    "\n",
    "# Configuración de rutas de entrada y salida\n",
    "input_data = \"dbfs:/FileStore/tables\"  \n",
    "output_data = \"/tmp/output/\"\n",
    "\n",
    "# Función para leer datos desde CSV\n",
    "def read_csv(file_name, has_header=True):\n",
    "    return spark.read.csv(os.path.join(input_data, file_name), header=has_header, inferSchema=True)\n",
    "\n",
    "# Cargar las tablas de dispositivos\n",
    "df_bot_devices = read_csv(\"bot_devices.csv\")\n",
    "df_iot_devices = read_csv(\"iot_devices.csv\")\n",
    "\n",
    "# Ver datos\n",
    "df_bot_devices.show(2)\n",
    "df_iot_devices.show(2)"
   ]
  },
  {
   "cell_type": "markdown",
   "metadata": {
    "application/vnd.databricks.v1+cell": {
     "cellMetadata": {
      "byteLimit": 2048000,
      "rowLimit": 10000
     },
     "inputWidgets": {},
     "nuid": "4a48135d-8ac7-4f7d-8cba-7c947eabdb31",
     "showTitle": false,
     "tableResultSettingsMap": {},
     "title": ""
    }
   },
   "source": [
    "### 3. Dimensiones y hechos"
   ]
  },
  {
   "cell_type": "code",
   "execution_count": 0,
   "metadata": {
    "application/vnd.databricks.v1+cell": {
     "cellMetadata": {
      "byteLimit": 2048000,
      "rowLimit": 10000
     },
     "inputWidgets": {},
     "nuid": "50f10a5c-e04b-49d7-bba0-3ff95f0dea46",
     "showTitle": false,
     "tableResultSettingsMap": {},
     "title": ""
    }
   },
   "outputs": [
    {
     "output_type": "stream",
     "name": "stdout",
     "output_type": "stream",
     "text": [
      "+-------------------+----+---+---+------+\n|           id_fecha|anio|mes|dia|semana|\n+-------------------+----+---+---+------+\n|2016-03-20 03:21:01|2016|  3| 20|    11|\n|2016-03-20 03:21:00|2016|  3| 20|    11|\n+-------------------+----+---+---+------+\n\n+---------+--------------------+-------+-------------+---------+\n|id_device|  nombre_dispositivo| escala|nivel_bateria|nivel_co2|\n+---------+--------------------+-------+-------------+---------+\n|   158706|sensor-pad-158706...|Celsius|            3|     1108|\n|   158708|sensor-pad-158708...|Celsius|            1|     1549|\n|   158707|meter-gauge-15870...|Celsius|            9|     1534|\n|   158710|sensor-pad-158710...|Celsius|            9|     1218|\n|   158711|meter-gauge-15871...|Celsius|            5|      924|\n+---------+--------------------+-------+-------------+---------+\nonly showing top 5 rows\n\n+-----------+-------+--------+-----------------+\n|id_location|latitud|longitud|             pais|\n+-----------+-------+--------+-----------------+\n|     158711|  12.98|   77.58|            India|\n|     158710|  33.61| -111.89|    United States|\n|     158708|  37.57|  126.98|Republic of Korea|\n|     158709|  31.96|    34.8|           Israel|\n|     158706|   38.0|   -97.0|    United States|\n+-----------+-------+--------+-----------------+\nonly showing top 5 rows\n\n+--------+---------+-------------+-------------------+----------+--------+---------+-----------+--------+---------+-------------+-------------+\n|hecho_id|id_device|  id_location|           id_fecha|        ip|latitude|longitude|temperature|humidity|nivel_co2|nivel_bateria|      created|\n+--------+---------+-------------+-------------------+----------+--------+---------+-----------+--------+---------+-------------+-------------+\n|  197910|   158706|United States|2016-03-20 03:21:01|72.129.5.3|    38.0|    -97.0|         19|      44|     1108|            3|1458444060060|\n|  197827|   158706|United States|2016-03-20 03:21:01|72.129.5.3|    38.0|    -97.0|         19|      44|     1108|            3|1458444060060|\n|  197810|   158706|United States|2016-03-20 03:21:01|72.129.5.3|    38.0|    -97.0|         19|      44|     1108|            3|1458444060060|\n|  197595|   158706|United States|2016-03-20 03:21:01|72.129.5.3|    38.0|    -97.0|         19|      44|     1108|            3|1458444060060|\n|  197233|   158706|United States|2016-03-20 03:21:01|72.129.5.3|    38.0|    -97.0|         19|      44|     1108|            3|1458444060060|\n+--------+---------+-------------+-------------------+----------+--------+---------+-----------+--------+---------+-------------+-------------+\nonly showing top 5 rows\n\n"
     ]
    }
   ],
   "source": [
    "# Dimensión fecha\n",
    "def create_dim_fecha(df):\n",
    "    return df.select(\n",
    "        col(\"date\").alias(\"id_fecha\"),\n",
    "        year(\"date\").alias(\"anio\"),\n",
    "        month(\"date\").alias(\"mes\"),\n",
    "        dayofmonth(\"date\").alias(\"dia\"),\n",
    "        weekofyear(\"date\").alias(\"semana\")\n",
    "    ).distinct()\n",
    "\n",
    "# Dimensión device\n",
    "def create_dim_device(df):\n",
    "    return df.select(\n",
    "        col(\"device_id\").alias(\"id_device\"),\n",
    "        col(\"device_name\").alias(\"nombre_dispositivo\"),\n",
    "        col(\"scale\").alias(\"escala\"),\n",
    "        col(\"battery_level\").alias(\"nivel_bateria\"),\n",
    "        col(\"c02_level\").alias(\"nivel_co2\")\n",
    "    ).distinct()\n",
    "\n",
    "# Dimensión location (desde iot_devices para incluir latitud y longitud)\n",
    "def create_dim_location(df):\n",
    "    return df.select(\n",
    "        col(\"device_id\").alias(\"id_location\"),\n",
    "        col(\"latitude\").alias(\"latitud\"),\n",
    "        col(\"longitude\").alias(\"longitud\"),\n",
    "        col(\"cn\").alias(\"pais\")\n",
    "    ).distinct()\n",
    "\n",
    "# Tabla de hechos\n",
    "def create_hechos_dispositivos(df_bot, df_iot):\n",
    "    \"\"\"\n",
    "    Crea la tabla de hechos 'hechos_dispositivos' uniendo las tablas 'bot_devices' e 'iot_devices'\n",
    "    en base solo a 'location' y 'humidity' para mejorar la cantidad de coincidencias.\n",
    "    \"\"\"\n",
    "    hechos_dispositivos = df_bot.alias(\"bot\").join(\n",
    "        df_iot.alias(\"iot\"),\n",
    "        (col(\"bot.location\") == col(\"iot.cn\")) & (col(\"bot.humidity\") == col(\"iot.humidity\")),\n",
    "        \"inner\"\n",
    "    ).select(\n",
    "        col(\"bot.id\").alias(\"hecho_id\"),\n",
    "        col(\"iot.device_id\").alias(\"id_device\"),\n",
    "        col(\"bot.location\").alias(\"id_location\"),\n",
    "        col(\"bot.date\").alias(\"id_fecha\"),\n",
    "        col(\"iot.ip\"),\n",
    "        col(\"iot.latitude\"),\n",
    "        col(\"iot.longitude\"),\n",
    "        col(\"iot.temp\").alias(\"temperature\"),\n",
    "        col(\"bot.humidity\"),\n",
    "        col(\"iot.c02_level\").alias(\"nivel_co2\"),\n",
    "        col(\"iot.battery_level\").alias(\"nivel_bateria\"),\n",
    "        col(\"iot.timestamp\").alias(\"created\")\n",
    "    )\n",
    "\n",
    "    return hechos_dispositivos\n",
    "\n",
    "# Crear la tabla de hechos\n",
    "dim_fecha = create_dim_fecha(df_bot_devices)\n",
    "dim_device = create_dim_device(df_iot_devices)\n",
    "dim_location = create_dim_location(df_iot_devices)\n",
    "hechos_dispositivos = create_hechos_dispositivos(df_bot_devices, df_iot_devices)\n",
    "\n",
    "# Mostrar algunos registros de la tabla de hechos para verificar\n",
    "dim_fecha.show(5)\n",
    "dim_device.show(5)\n",
    "dim_location.show(5)\n",
    "hechos_dispositivos.show(5)"
   ]
  },
  {
   "cell_type": "markdown",
   "metadata": {
    "application/vnd.databricks.v1+cell": {
     "cellMetadata": {
      "byteLimit": 2048000,
      "rowLimit": 10000
     },
     "inputWidgets": {},
     "nuid": "2cce11aa-d12d-4e22-8d8e-17c068a7ed02",
     "showTitle": false,
     "tableResultSettingsMap": {},
     "title": ""
    }
   },
   "source": [
    "### 4. Reportes"
   ]
  },
  {
   "cell_type": "code",
   "execution_count": 0,
   "metadata": {
    "application/vnd.databricks.v1+cell": {
     "cellMetadata": {
      "byteLimit": 2048000,
      "rowLimit": 10000
     },
     "inputWidgets": {},
     "nuid": "693db5c1-085b-4874-aec3-8ddd53073702",
     "showTitle": false,
     "tableResultSettingsMap": {},
     "title": ""
    }
   },
   "outputs": [
    {
     "output_type": "stream",
     "name": "stdout",
     "output_type": "stream",
     "text": [
      "+-----------------+------------------+------------------+\n|      id_location|  promedio_bateria|      promedio_co2|\n+-----------------+------------------+------------------+\n|           Russia| 4.608724388631857|1228.6093853271645|\n|           Sweden| 4.598062953995157|1185.3268765133173|\n|Republic of Korea| 4.426619588578446|1204.2156892846178|\n|      Philippines| 4.636363636363637|1191.0454545454545|\n|           Jersey|               2.0|            1485.0|\n|         Malaysia| 4.151515151515151| 1181.060606060606|\n|        Singapore|5.3544303797468356| 1191.392405063291|\n|           Turkey| 4.153846153846154|1201.3846153846155|\n|          Germany|  4.60968660968661|1196.8276353276353|\n|      Afghanistan|               0.0|            1321.0|\n|         Cambodia|               6.0|            1475.0|\n|            Sudan|               8.0|            1292.0|\n|           France| 4.236421725239617|1206.5183706070288|\n|           Greece|             3.375|            1293.5|\n|           Taiwan| 5.053475935828877|1221.3796791443851|\n|        Argentina| 4.257142857142857|1163.8857142857144|\n|          Belgium| 5.235294117647059|1273.8235294117646|\n|          Ecuador|               0.0|             863.0|\n|          Finland|3.2222222222222223|1271.8333333333333|\n|        Nicaragua|               9.0|            1387.0|\n+-----------------+------------------+------------------+\nonly showing top 20 rows\n\n"
     ]
    }
   ],
   "source": [
    "# 1. Nivel promedio de CO2 y batería por ubicación\n",
    "reporte1 = hechos_dispositivos \\\n",
    "    .groupBy(\"id_location\") \\\n",
    "    .agg(avg(\"nivel_bateria\").alias(\"promedio_bateria\"), avg(\"nivel_co2\").alias(\"promedio_co2\"))\n",
    "reporte1.show()"
   ]
  },
  {
   "cell_type": "code",
   "execution_count": 0,
   "metadata": {
    "application/vnd.databricks.v1+cell": {
     "cellMetadata": {
      "byteLimit": 2048000,
      "rowLimit": 10000
     },
     "inputWidgets": {},
     "nuid": "ce48488d-8981-49a7-98b8-4c18e4e970ce",
     "showTitle": false,
     "tableResultSettingsMap": {},
     "title": ""
    }
   },
   "outputs": [
    {
     "output_type": "stream",
     "name": "stdout",
     "output_type": "stream",
     "text": [
      "+-------------+--------+---------+------------------+--------+\n|  id_location|latitude|longitude|     temp_promedio|max_temp|\n+-------------+--------+---------+------------------+--------+\n|        China|   43.88|   125.32| 21.56937799043062|      34|\n|United States|   40.89|   -73.95|              31.0|      31|\n|        China|   34.26|   108.93|22.276041666666668|      34|\n|       Russia|   48.72|     44.5|            28.125|      30|\n|United States|   34.05|   -81.11|              15.0|      15|\n|United States|   33.31|   -87.59|              16.0|      16|\n|      Germany|   51.25|     6.81|              15.0|      15|\n|       Canada|   45.53|   -73.55|26.142857142857142|      29|\n|United States|   38.85|  -105.32|              31.0|      31|\n|       Poland|   50.27|    19.02|              24.0|      24|\n|United States|   35.49|   -98.98|              14.0|      14|\n|United States|    43.6|  -116.42|              24.0|      24|\n|United States|   45.28|  -111.37|              27.0|      27|\n|United States|    36.0|   -86.78|              18.0|      18|\n|        China|   41.57|   120.46| 21.19148936170213|      24|\n|      Ukraine|   48.29|    25.94|              13.8|      18|\n|United States|   47.58|   -122.3|              15.0|      15|\n|United States|   35.87|   -84.98|              27.0|      27|\n|United States|   30.41|   -86.76|              33.0|      33|\n|       Canada|   45.44|   -73.77|              32.0|      32|\n+-------------+--------+---------+------------------+--------+\nonly showing top 20 rows\n\n"
     ]
    }
   ],
   "source": [
    "# 2. Temperatura promedio y máxima por ubicación\n",
    "reporte2 = hechos_dispositivos \\\n",
    "    .groupBy(\"id_location\", \"latitude\", \"longitude\") \\\n",
    "    .agg(avg(\"temperature\").alias(\"temp_promedio\"), max(\"temperature\").alias(\"max_temp\"))\n",
    "reporte2.show()"
   ]
  },
  {
   "cell_type": "code",
   "execution_count": 0,
   "metadata": {
    "application/vnd.databricks.v1+cell": {
     "cellMetadata": {
      "byteLimit": 2048000,
      "rowLimit": 10000
     },
     "inputWidgets": {},
     "nuid": "f41484d4-0a91-49bc-8eb1-b75664b0cb52",
     "showTitle": false,
     "tableResultSettingsMap": {},
     "title": ""
    }
   },
   "outputs": [
    {
     "output_type": "stream",
     "name": "stdout",
     "output_type": "stream",
     "text": [
      "+-----------------+---------------------+\n|      id_location|cantidad_dispositivos|\n+-----------------+---------------------+\n|           Russia|                  440|\n|           Sweden|                  177|\n|Republic of Korea|                  947|\n|      Philippines|                   17|\n|           Jersey|                    1|\n|         Malaysia|                   26|\n|        Singapore|                   52|\n|           Turkey|                   13|\n|          Germany|                  606|\n|      Afghanistan|                    1|\n|         Cambodia|                    1|\n|            Sudan|                    1|\n|           France|                  380|\n|           Greece|                    6|\n|           Taiwan|                  105|\n|        Argentina|                   33|\n|          Belgium|                   15|\n|          Ecuador|                    1|\n|          Finland|                   14|\n|        Nicaragua|                    1|\n+-----------------+---------------------+\nonly showing top 20 rows\n\n"
     ]
    }
   ],
   "source": [
    "# 3. Cantidad de dispositivos distintos por ubicación\n",
    "reporte3 = hechos_dispositivos \\\n",
    "    .groupBy(\"id_location\") \\\n",
    "    .agg(countDistinct(\"id_device\").alias(\"cantidad_dispositivos\"))\n",
    "reporte3.show()"
   ]
  },
  {
   "cell_type": "code",
   "execution_count": 0,
   "metadata": {
    "application/vnd.databricks.v1+cell": {
     "cellMetadata": {
      "byteLimit": 2048000,
      "rowLimit": 10000
     },
     "inputWidgets": {},
     "nuid": "cabdd38f-86ce-45fc-afe2-49976ea20cab",
     "showTitle": false,
     "tableResultSettingsMap": {},
     "title": ""
    }
   },
   "outputs": [
    {
     "output_type": "stream",
     "name": "stdout",
     "output_type": "stream",
     "text": [
      "+--------------------+-------------------+------------------+--------------+\n|         id_location|           id_fecha|  humedad_promedio|humedad_minima|\n+--------------------+-------------------+------------------+--------------+\n|      Czech Republic|2016-03-20 03:21:00| 65.70588235294117|            30|\n|              Taiwan|2016-03-20 03:21:00|63.445945945945944|            25|\n|             Germany|2016-03-20 03:21:01|59.878846153846155|            25|\n|              Serbia|2016-03-20 03:21:01|49.333333333333336|            27|\n|            Bulgaria|2016-03-20 03:21:01|              60.0|            26|\n|       United States|2016-03-20 03:21:00| 62.68962538917344|            25|\n|             Belgium|2016-03-20 03:21:00| 68.22222222222223|            37|\n|              Sweden|2016-03-20 03:21:00| 62.38068181818182|            26|\n|         Puerto Rico|2016-03-20 03:21:00|              60.0|            60|\n|         Switzerland|2016-03-20 03:21:00| 67.02564102564102|            36|\n|        South Africa|2016-03-20 03:21:00|              62.4|            28|\n|           Argentina|2016-03-20 03:21:01| 59.31578947368421|            26|\n|          Costa Rica|2016-03-20 03:21:01|              26.0|            26|\n|              France|2016-03-20 03:21:00| 63.09018987341772|            26|\n|         Netherlands|2016-03-20 03:21:01| 62.86363636363637|            25|\n|             Croatia|2016-03-20 03:21:01|              86.0|            86|\n|Bosnia and Herzeg...|2016-03-20 03:21:01|              45.0|            45|\n|             Denmark|2016-03-20 03:21:01| 65.33333333333333|            28|\n|               Italy|2016-03-20 03:21:00| 59.19718309859155|            27|\n|         Afghanistan|2016-03-20 03:21:01|              63.0|            63|\n+--------------------+-------------------+------------------+--------------+\nonly showing top 20 rows\n\n"
     ]
    }
   ],
   "source": [
    "# 4. Humedad promedio y mínima por ubicación y fecha\n",
    "reporte4 = hechos_dispositivos \\\n",
    "    .groupBy(\"id_location\", \"id_fecha\") \\\n",
    "    .agg(avg(\"humidity\").alias(\"humedad_promedio\"), min(\"humidity\").alias(\"humedad_minima\"))\n",
    "reporte4.show()"
   ]
  },
  {
   "cell_type": "code",
   "execution_count": 0,
   "metadata": {
    "application/vnd.databricks.v1+cell": {
     "cellMetadata": {
      "byteLimit": 2048000,
      "rowLimit": 10000
     },
     "inputWidgets": {},
     "nuid": "296bc3e9-09da-4fcd-a560-803d8f8a7022",
     "showTitle": false,
     "tableResultSettingsMap": {},
     "title": ""
    }
   },
   "outputs": [
    {
     "output_type": "stream",
     "name": "stdout",
     "output_type": "stream",
     "text": [
      "+-------------------+--------------------+\n|           id_fecha|dispositivos_activos|\n+-------------------+--------------------+\n|2016-03-20 03:21:01|               11831|\n|2016-03-20 03:21:00|               11476|\n+-------------------+--------------------+\n\n"
     ]
    }
   ],
   "source": [
    "# 5. Días con mayor número de dispositivos activos\n",
    "reporte5 = hechos_dispositivos \\\n",
    "    .groupBy(\"id_fecha\") \\\n",
    "    .agg(countDistinct(\"id_device\").alias(\"dispositivos_activos\")) \\\n",
    "    .orderBy(col(\"dispositivos_activos\").desc()) \\\n",
    "    .limit(5)\n",
    "reporte5.show()"
   ]
  },
  {
   "cell_type": "code",
   "execution_count": 0,
   "metadata": {
    "application/vnd.databricks.v1+cell": {
     "cellMetadata": {
      "byteLimit": 2048000,
      "rowLimit": 10000
     },
     "inputWidgets": {},
     "nuid": "a9f2dccf-2eef-4aff-a71f-ab91db90820a",
     "showTitle": false,
     "tableResultSettingsMap": {},
     "title": ""
    }
   },
   "outputs": [
    {
     "output_type": "stream",
     "name": "stdout",
     "output_type": "stream",
     "text": [
      "+---+------------------+\n|mes|      promedio_co2|\n+---+------------------+\n|  3|1199.7321204897935|\n+---+------------------+\n\n"
     ]
    }
   ],
   "source": [
    "# 6. Promedio de nivel de CO2 por mes\n",
    "reporte6 = hechos_dispositivos \\\n",
    "    .withColumn(\"mes\", month(\"id_fecha\")) \\\n",
    "    .groupBy(\"mes\") \\\n",
    "    .agg(avg(\"nivel_co2\").alias(\"promedio_co2\"))\n",
    "reporte6.show()"
   ]
  },
  {
   "cell_type": "code",
   "execution_count": 0,
   "metadata": {
    "application/vnd.databricks.v1+cell": {
     "cellMetadata": {
      "byteLimit": 2048000,
      "rowLimit": 10000
     },
     "inputWidgets": {},
     "nuid": "b765ab33-adaa-4060-8f00-ae9315bbea8e",
     "showTitle": false,
     "tableResultSettingsMap": {},
     "title": ""
    }
   },
   "outputs": [
    {
     "output_type": "stream",
     "name": "stdout",
     "output_type": "stream",
     "text": [
      "+---------+-----------------+----------------+\n|id_device|      id_location|bateria_promedio|\n+---------+-----------------+----------------+\n|   158790|    United States|             3.0|\n|   158936|            Japan|             4.0|\n|   159266|           Poland|             2.0|\n|   159969|           Canada|             0.0|\n|   160061|    United States|             5.0|\n|   160618|    United States|             6.0|\n|   160716|    United States|             5.0|\n|   161264|    United States|             5.0|\n|   161653|    United States|             1.0|\n|   161692|            Japan|             4.0|\n|   161870|           Russia|             6.0|\n|   162050|Republic of Korea|             5.0|\n|   162489|          Hungary|             3.0|\n|   163308|    United States|             7.0|\n|   163423|    United States|             5.0|\n|   164260|          Germany|             9.0|\n|   164969|        Australia|             5.0|\n|   165203|           Poland|             8.0|\n|   165373|    United States|             0.0|\n|   165427|    United States|             6.0|\n+---------+-----------------+----------------+\nonly showing top 20 rows\n\n"
     ]
    }
   ],
   "source": [
    "# 7. Nivel de batería promedio por dispositivo y ubicación\n",
    "reporte7 = hechos_dispositivos \\\n",
    "    .groupBy(\"id_device\", \"id_location\") \\\n",
    "    .agg(avg(\"nivel_bateria\").alias(\"bateria_promedio\"))\n",
    "reporte7.show()"
   ]
  },
  {
   "cell_type": "code",
   "execution_count": 0,
   "metadata": {
    "application/vnd.databricks.v1+cell": {
     "cellMetadata": {
      "byteLimit": 2048000,
      "rowLimit": 10000
     },
     "inputWidgets": {},
     "nuid": "32a4f1d0-a7a4-42a1-9ad1-8c7f1a379d57",
     "showTitle": false,
     "tableResultSettingsMap": {},
     "title": ""
    }
   },
   "outputs": [
    {
     "output_type": "display_data",
     "data": {
      "text/html": [
       "<style scoped>\n",
       "  .ansiout {\n",
       "    display: block;\n",
       "    unicode-bidi: embed;\n",
       "    white-space: pre-wrap;\n",
       "    word-wrap: break-word;\n",
       "    word-break: break-all;\n",
       "    font-family: \"Menlo\", \"Monaco\", \"Consolas\", \"Ubuntu Mono\", \"Source Code Pro\", monospace;\n",
       "    font-size: 13px;\n",
       "    color: #555;\n",
       "    margin-left: 4px;\n",
       "    line-height: 19px;\n",
       "  }\n",
       "</style>"
      ]
     },
     "metadata": {
      "application/vnd.databricks.v1+output": {
       "arguments": {},
       "data": "",
       "errorSummary": "The spark context has stopped and the driver is restarting. Your notebook will be automatically reattached.",
       "errorTraceType": "html",
       "metadata": {},
       "type": "ipynbError"
      }
     },
     "output_type": "display_data"
    }
   ],
   "source": [
    "# Finalizar sesión de Spark\n",
    "spark.stop()"
   ]
  },
  {
   "cell_type": "code",
   "execution_count": 0,
   "metadata": {
    "application/vnd.databricks.v1+cell": {
     "cellMetadata": {
      "byteLimit": 2048000,
      "rowLimit": 10000
     },
     "inputWidgets": {},
     "nuid": "d3c04150-6628-45dd-b988-ca67927117e6",
     "showTitle": false,
     "tableResultSettingsMap": {},
     "title": ""
    }
   },
   "outputs": [],
   "source": []
  }
 ],
 "metadata": {
  "application/vnd.databricks.v1+notebook": {
   "dashboards": [],
   "environmentMetadata": null,
   "language": "python",
   "notebookMetadata": {
    "pythonIndentUnit": 4
   },
   "notebookName": "Tarea Caso 2",
   "widgets": {}
  }
 },
 "nbformat": 4,
 "nbformat_minor": 0
}
