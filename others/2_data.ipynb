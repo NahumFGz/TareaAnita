{
 "cells": [
  {
   "cell_type": "code",
   "execution_count": 50,
   "metadata": {},
   "outputs": [],
   "source": [
    "import json\n",
    "import pandas as pd"
   ]
  },
  {
   "cell_type": "markdown",
   "metadata": {},
   "source": [
    "### 1. Procesar json"
   ]
  },
  {
   "cell_type": "code",
   "execution_count": 51,
   "metadata": {},
   "outputs": [],
   "source": [
    "def modify_json_file(source_path, destination_path):\n",
    "    # Leer el archivo y agregar una coma al final de cada línea excepto la última\n",
    "    with open(source_path, 'r', encoding='utf-8') as file:\n",
    "        lines = file.readlines()\n",
    "\n",
    "    # Agregar una coma al final de cada línea excepto la última\n",
    "    modified_lines = [line.rstrip('\\n') + ',\\n' for line in lines[:-1]]\n",
    "    modified_lines.append(lines[-1].rstrip('\\n') + '\\n')\n",
    "\n",
    "    # Agregar corchetes al inicio y al final\n",
    "    modified_lines.insert(0, '[\\n')\n",
    "    modified_lines.append(']\\n')\n",
    "\n",
    "    # Escribir el contenido modificado en un nuevo archivo\n",
    "    with open(destination_path, 'w', encoding='utf-8') as file:\n",
    "        file.writelines(modified_lines)"
   ]
  },
  {
   "cell_type": "code",
   "execution_count": 52,
   "metadata": {},
   "outputs": [],
   "source": [
    "source_path = 'data\\\\proy_2\\\\org\\\\bot_devices.json'\n",
    "destination_path = 'data\\\\proy_2\\\\proc\\\\bot_devices.json'\n",
    "modify_json_file(source_path, destination_path)"
   ]
  },
  {
   "cell_type": "code",
   "execution_count": 53,
   "metadata": {},
   "outputs": [],
   "source": [
    "source_path = 'data\\proy_2\\org\\iot_devices.json'\n",
    "destination_path = 'data\\proy_2\\proc\\iot_devices.json'\n",
    "modify_json_file(source_path, destination_path)"
   ]
  },
  {
   "cell_type": "markdown",
   "metadata": {},
   "source": [
    "### 2. Crear Convertir a CSVs"
   ]
  },
  {
   "cell_type": "code",
   "execution_count": 54,
   "metadata": {},
   "outputs": [],
   "source": [
    "def json_to_csv(json_path, csv_path):\n",
    "    # Leer el archivo JSON y pasarlo a un DataFrame\n",
    "    with open(json_path, 'r', encoding='utf-8') as file:\n",
    "        data = json.load(file)\n",
    "\n",
    "    df = pd.DataFrame(data)\n",
    "    \n",
    "    # Guardar el DataFrame en un archivo CSV\n",
    "    df.to_csv(csv_path, index=False)"
   ]
  },
  {
   "cell_type": "code",
   "execution_count": 55,
   "metadata": {},
   "outputs": [],
   "source": [
    "json_path = 'data\\\\proy_2\\\\proc\\\\bot_devices.json'\n",
    "csv_path = 'data\\\\proy_2\\\\bot_devices.csv'\n",
    "json_to_csv(json_path, csv_path)"
   ]
  },
  {
   "cell_type": "code",
   "execution_count": 56,
   "metadata": {},
   "outputs": [],
   "source": [
    "json_path = 'data\\proy_2\\proc\\iot_devices.json'\n",
    "csv_path = 'data\\proy_2\\iot_devices.csv'\n",
    "json_to_csv(json_path, csv_path)"
   ]
  },
  {
   "cell_type": "markdown",
   "metadata": {},
   "source": [
    "### 3. Ver los encabezados"
   ]
  },
  {
   "cell_type": "code",
   "execution_count": null,
   "metadata": {},
   "outputs": [],
   "source": [
    "# bot_devices.csv -- date,name,location,humidity,temperature,sound,id\n",
    "\n",
    "# iot_devices.csv -- battery_level,c02_level,cca2,cca3,cn,device_id,device_name,humidity,ip,latitude,lcd,longitude,scale,temp,timestamp"
   ]
  }
 ],
 "metadata": {
  "kernelspec": {
   "display_name": "venv_tarea",
   "language": "python",
   "name": "python3"
  },
  "language_info": {
   "codemirror_mode": {
    "name": "ipython",
    "version": 3
   },
   "file_extension": ".py",
   "mimetype": "text/x-python",
   "name": "python",
   "nbconvert_exporter": "python",
   "pygments_lexer": "ipython3",
   "version": "3.10.8"
  }
 },
 "nbformat": 4,
 "nbformat_minor": 2
}
